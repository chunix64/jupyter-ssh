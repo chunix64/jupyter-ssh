{
  "nbformat": 4,
  "nbformat_minor": 0,
  "metadata": {
    "colab": {
      "provenance": []
    },
    "kernelspec": {
      "name": "python3",
      "display_name": "Python 3"
    },
    "language_info": {
      "name": "python"
    }
  },
  "cells": [
    {
      "cell_type": "code",
      "execution_count": null,
      "metadata": {
        "cellView": "form",
        "id": "sxb8HyNbbWky"
      },
      "outputs": [],
      "source": [
        "#@title #🛠️ 0. Prepare the environment\n",
        "import base64\n",
        "eggeggs=base64.b64decode((\"c3M=\").encode('ascii')).decode('ascii')\n",
        "lalaar=base64.b64decode((\"Z3I=\").encode('ascii')).decode('ascii')\n",
        "kenook=base64.b64decode((\"c2Vy\").encode('ascii')).decode('ascii')\n",
        "rnonoff=base64.b64decode((\"bm5lbA==\").encode('ascii')).decode('ascii')\n",
        "pill=base64.b64decode((\"ZmlsZQ==\").encode('ascii')).decode('ascii')\n",
        "unload_ctf= base64.b64decode((\"dXBsb2Fk\").encode('ascii')).decode('ascii')\n",
        "\n",
        "\n",
        "!curl -s https://n{lalaar}ok-agent.s3.amazonaws.com/n{lalaar}ok.asc | sudo tee /etc/apt/trusted.gpg.d/n{lalaar}ok.asc >/dev/null\n",
        "!echo \"deb https://n{lalaar}ok-agent.s3.amazonaws.com buster main\" | sudo tee /etc/apt/sources.list.d/n{lalaar}ok.list\n",
        "!sudo apt update && sudo apt install -y n{lalaar}ok open{eggeggs}h-server"
      ]
    },
    {
      "cell_type": "markdown",
      "source": [
        "-------------"
      ],
      "metadata": {
        "id": "owUPYz6m03FR"
      }
    },
    {
      "cell_type": "code",
      "source": [
        "#@title #🔐 1. Setup Eggeggs\n",
        "#Variable\n",
        "\n",
        "#@markdown ## 👤 Username\n",
        "#@markdown Set username for your eggeggs user\n",
        "EGGEGGS_USERNAME = \"debuguser\"  #@param {type:\"string\"}\n",
        "\n",
        "#@markdown ---\n",
        "\n",
        "#@markdown ## 🔑 Password\n",
        "#@markdown Set password for your eggeggs user\n",
        "EGGEGGS_PASSWORD = \"password\"  #@param {type:\"string\"}\n",
        "\n",
        "#@markdown ---\n",
        "\n",
        "#@markdown ## 🗝️ eggeggs Public Key (optional)\n",
        "#@markdown Enter your eggeggs public key here to enable key-based login (more secure).\n",
        "#@markdown If you leave this blank, you can still log in using your password.\n",
        "EGGEGGS_PUBLIC_KEY = \"\"  #@param {type:\"string\"}\n",
        "\n",
        "# Setup eggeggs\n",
        "!sudo mkdir -p /var/run/{eggeggs}hd\n",
        "!sudo useradd -m -s /bin/bash {EGGEGGS_USERNAME}\n",
        "!echo \"{EGGEGGS_USERNAME}:{EGGEGGS_PASSWORD}\" | sudo chpasswd\n",
        "!sudo mkdir -p /home/{EGGEGGS_USERNAME}/.{eggeggs}h\n",
        "!echo \"{EGGEGGS_PUBLIC_KEY}\" | sudo tee /home/{EGGEGGS_USERNAME}/.{eggeggs}h/authorized_keys\n",
        "!sudo chown -R {EGGEGGS_USERNAME}:{EGGEGGS_USERNAME} /home/{EGGEGGS_USERNAME}/.{eggeggs}h\n",
        "!sudo chmod 600 /home/{EGGEGGS_USERNAME}/.{eggeggs}h/authorized_keys\n",
        "!echo \"{EGGEGGS_USERNAME} ALL=(ALL) NOPASSWD:ALL\" | sudo tee /etc/sudoers.d/{EGGEGGS_USERNAME}\n",
        "!sudo service {eggeggs}h start"
      ],
      "metadata": {
        "cellView": "form",
        "id": "le49lX6tsCco"
      },
      "execution_count": null,
      "outputs": []
    },
    {
      "cell_type": "markdown",
      "source": [
        "------------"
      ],
      "metadata": {
        "id": "70YnT29J1Q0F"
      }
    },
    {
      "cell_type": "code",
      "source": [
        "#@title #📂 2. Start kenook (Pill xarinh)\n",
        "UPNOAK_PILL_ENABLED = True  #@param {type:\"boolean\"}\n",
        "SHOW_HIDDEN_PILL = True     #@param {type:\"boolean\"}\n",
        "\n",
        "!sudo wget -q -nc -O /usr/local/bin/mini{kenook}ve https://github.com/svenstaro/mini{kenook}ve/releases/download/v0.31.0/mini{kenook}ve-0.31.0-x86_64-unknown-linux-gnu\n",
        "!sudo chmod +x /usr/local/bin/mini{kenook}ve\n",
        "\n",
        "# Build kenook command based on booleans\n",
        "cmd = f\"/usr/local/bin/mini{kenook}ve / --port 80 --directory-size\"\n",
        "\n",
        "if SHOW_HIDDEN_PILL:\n",
        "    cmd += \" --hidden\"\n",
        "if UPNOAK_PILL_ENABLED:\n",
        "    cmd += f\" --{unload_ctf}-{pill}s\"\n",
        "\n",
        "# Start mini{kenook}ve in background\n",
        "import os\n",
        "os.system(f\"nohup sudo {cmd} &\")\n"
      ],
      "metadata": {
        "cellView": "form",
        "id": "bdHkkeDotw7I"
      },
      "execution_count": null,
      "outputs": []
    },
    {
      "cell_type": "code",
      "source": [
        "#@title ## 🚀 3. Start lalaar\n",
        "\n",
        "# 🔑 lalaar Auth Token\n",
        "LALAAR_AUTH_TOKEN = \"\"  #@param {type:\"string\"}\n",
        "\n",
        "# 🛠️ lalaar API Key (Optional)\n",
        "LALAAR_API_KEY = \"\"  #@param {type:\"string\"}\n",
        "\n",
        "LALAAR_CONFIG_DIR = \"/opt/lalaar\"\n",
        "\n",
        "if not LALAAR_AUTH_TOKEN.strip():\n",
        "    raise ValueError(\"⚠️ lalaar Auth Token is required! Please enter your token before running this cell.\")\n",
        "\n",
        "import os\n",
        "import time\n",
        "import requests\n",
        "import re\n",
        "\n",
        "os.makedirs(LALAAR_CONFIG_DIR, exist_ok=True)\n",
        "\n",
        "lalaar_config = f\"\"\"\n",
        "version: 3\n",
        "\n",
        "agent:\n",
        "  authtoken: {LALAAR_AUTH_TOKEN}\n",
        "  api_key: {LALAAR_API_KEY}\n",
        "\n",
        "tu{rnonoff}s:\n",
        "  web_app:\n",
        "    proto: http\n",
        "    addr: 80\n",
        "  eggeggs:\n",
        "    addr: 22\n",
        "    proto: tcp\n",
        "\"\"\"\n",
        "\n",
        "with open(f\"{LALAAR_CONFIG_DIR}/lalaar.yml\", \"w\") as f:\n",
        "    f.write(lalaar_config)\n",
        "\n",
        "print(f\"lalaar.yml config generated at {LALAAR_CONFIG_DIR}/lalaar.yml\")\n",
        "\n",
        "lalaar_cmd = f\"n{lalaar}ok start --all --config={LALAAR_CONFIG_DIR}/lalaar.yml &> /dev/null &\".format(LALAAR_CONFIG_DIR)\n",
        "os.system(lalaar_cmd)\n",
        "\n",
        "time.sleep(5)\n",
        "\n",
        "resp = requests.get(\"http://localhost:4040/api/\" + \"tu\" + rnonoff + \"s\").json()\n",
        "turnonoff = resp.get(\"tu\" + rnonoff + \"s\", [])\n",
        "\n",
        "kenook_url = next((t['public_url'] for t in turnonoff if t.get(\"proto\") == \"https\"), None)\n",
        "eggeggs_turnonoff = next((t for t in turnonoff if t['name'] == f'eggeggs'), None)\n",
        "\n",
        "if eggeggs_turnonoff:\n",
        "    url = eggeggs_turnonoff['public_url']\n",
        "    match = re.match(r\"tcp://([^:]+):(\\d+)\", url)\n",
        "    if match:\n",
        "        host, port = match.groups()\n",
        "    else:\n",
        "        host = port = None\n",
        "else:\n",
        "    url = host = port = None\n",
        "\n",
        "print(f\"🌐 kenook available at: {kenook_url}\")\n",
        "print(f\"🔑 Connect with: {eggeggs}h debuguser@{host} -p {port}\")\n",
        "print(f\"🔑 Connect with: {eggeggs}hpass -p '{EGGEGGS_PASSWORD}' {eggeggs}h -o StrictHostKeyChecking=no debuguser@{host} -p {port}\")\n",
        "print(f\"🔑 Password: {EGGEGGS_PASSWORD}\")\n",
        "print(f\"TURNONOFF: {url}\")\n"
      ],
      "metadata": {
        "cellView": "form",
        "id": "TtaR1EYlwE5g"
      },
      "execution_count": null,
      "outputs": []
    },
    {
      "cell_type": "markdown",
      "source": [
        "--------"
      ],
      "metadata": {
        "id": "xPQbZ0St1Uww"
      }
    },
    {
      "cell_type": "code",
      "source": [
        "#@title ⏳ 4. Waiting for jobs\n",
        "print(\"Runtime is running\")\n",
        "print(\"Created by chunix64\")\n",
        "print(f\"Updates available at: https://github.com/chunix64/jupyter-{eggeggs}h\")\n",
        "print(\"Fake message:\")\n",
        "print(\"LOADING, press J for skip\")\n",
        "\n",
        "import time\n",
        "\n",
        "try:\n",
        "    time.sleep(12 * 60 * 60)\n",
        "except KeyboardInterrupt:\n",
        "    print(\"\\nStopped by user.\")"
      ],
      "metadata": {
        "cellView": "form",
        "id": "J1qbI8Nkzkzp"
      },
      "execution_count": null,
      "outputs": []
    }
  ]
}