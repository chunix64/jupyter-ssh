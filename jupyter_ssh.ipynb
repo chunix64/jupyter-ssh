{
  "nbformat": 4,
  "nbformat_minor": 0,
  "metadata": {
    "colab": {
      "provenance": []
    },
    "kernelspec": {
      "name": "python3",
      "display_name": "Python 3"
    },
    "language_info": {
      "name": "python"
    }
  },
  "cells": [
    {
      "cell_type": "code",
      "execution_count": null,
      "metadata": {
        "cellView": "form",
        "id": "sxb8HyNbbWky"
      },
      "outputs": [],
      "source": [
        "#@title #🛠️ 0. Prepare the environment\n",
        "!curl -s https://ngrok-agent.s3.amazonaws.com/ngrok.asc | sudo tee /etc/apt/trusted.gpg.d/ngrok.asc >/dev/null\n",
        "!echo \"deb https://ngrok-agent.s3.amazonaws.com buster main\" | sudo tee /etc/apt/sources.list.d/ngrok.list\n",
        "!sudo apt update && sudo apt install -y ngrok openssh-server"
      ]
    },
    {
      "cell_type": "markdown",
      "source": [
        "-------------"
      ],
      "metadata": {
        "id": "owUPYz6m03FR"
      }
    },
    {
      "cell_type": "code",
      "source": [
        "#@title #🔐 1. Setup SSH\n",
        "#Variable\n",
        "\n",
        "#@markdown ## 👤 Username\n",
        "#@markdown Set username for your SSH user\n",
        "SSH_USERNAME = \"debuguser\"  #@param {type:\"string\"}\n",
        "\n",
        "#@markdown ---\n",
        "\n",
        "#@markdown ## 🔑 Password\n",
        "#@markdown Set password for your SSH user\n",
        "SSH_PASSWORD = \"password\"  #@param {type:\"string\"}\n",
        "\n",
        "#@markdown ---\n",
        "\n",
        "#@markdown ## 🗝️ SSH Public Key (optional)\n",
        "#@markdown Enter your SSH public key here to enable key-based login (more secure).\n",
        "#@markdown If you leave this blank, you can still log in using your password.\n",
        "SSH_PUBLIC_KEY = \"\"  #@param {type:\"string\"}\n",
        "\n",
        "# Setup SSH\n",
        "!sudo mkdir -p /var/run/sshd\n",
        "!sudo useradd -m -s /bin/bash {SSH_USERNAME}\n",
        "!echo \"{SSH_USERNAME}:{SSH_PASSWORD}\" | sudo chpasswd\n",
        "!sudo mkdir -p /home/{SSH_USERNAME}/.ssh\n",
        "!echo \"{SSH_PUBLIC_KEY}\" | sudo tee /home/{SSH_USERNAME}/.ssh/authorized_keys\n",
        "!sudo chown -R {SSH_USERNAME}:{SSH_USERNAME} /home/{SSH_USERNAME}/.ssh\n",
        "!sudo chmod 600 /home/{SSH_USERNAME}/.ssh/authorized_keys\n",
        "!echo \"{SSH_USERNAME} ALL=(ALL) NOPASSWD:ALL\" | sudo tee /etc/sudoers.d/{SSH_USERNAME}\n",
        "!sudo service ssh start"
      ],
      "metadata": {
        "cellView": "form",
        "id": "le49lX6tsCco"
      },
      "execution_count": null,
      "outputs": []
    },
    {
      "cell_type": "markdown",
      "source": [
        "------------"
      ],
      "metadata": {
        "id": "70YnT29J1Q0F"
      }
    },
    {
      "cell_type": "code",
      "source": [
        "#@title #📂 2. Start miniserve (File sharing)\n",
        "UPLOAD_FILE_ENABLED = True  #@param {type:\"boolean\"}\n",
        "SHOW_HIDDEN_FILE = True     #@param {type:\"boolean\"}\n",
        "\n",
        "!sudo wget -q -nc -O /usr/local/bin/miniserve https://github.com/svenstaro/miniserve/releases/download/v0.31.0/miniserve-0.31.0-x86_64-unknown-linux-gnu\n",
        "!sudo chmod +x /usr/local/bin/miniserve\n",
        "\n",
        "# Build miniserve command based on booleans\n",
        "cmd = \"/usr/local/bin/miniserve / --port 80 --directory-size\"\n",
        "\n",
        "if SHOW_HIDDEN_FILE:\n",
        "    cmd += \" --hidden\"\n",
        "if UPLOAD_FILE_ENABLED:\n",
        "    cmd += \" --upload-files\"\n",
        "\n",
        "# Start miniserve in background\n",
        "import os\n",
        "os.system(f\"nohup sudo {cmd} &\")\n"
      ],
      "metadata": {
        "cellView": "form",
        "id": "bdHkkeDotw7I"
      },
      "execution_count": null,
      "outputs": []
    },
    {
      "cell_type": "code",
      "source": [
        "#@title 🚀 3. Start ngrok\n",
        "\n",
        "#@markdown ## 🔑 Ngrok Auth Token\n",
        "#@markdown Enter your ngrok authentication token. Required to start ngrok tunnels.\n",
        "NGROK_AUTH_TOKEN = \"\"  #@param {type:\"string\"}\n",
        "\n",
        "#@markdown ---\n",
        "\n",
        "#@markdown ## 🛠️ Ngrok API Key (Optional)\n",
        "#@markdown Enter your ngrok API key for advanced features.\n",
        "NGROK_API_KEY = \"\"  #@param {type:\"string\"}\n",
        "\n",
        "#@markdown ---\n",
        "NGROK_CONFIG_DIR = \"/opt/ngrok\"\n",
        "\n",
        "import os\n",
        "import time\n",
        "import requests\n",
        "import re\n",
        "\n",
        "!mkdir -p {NGROK_CONFIG_DIR}\n",
        "\n",
        "ngrok_config = f\"\"\"\n",
        "version: 3\n",
        "\n",
        "agent:\n",
        "  authtoken: {NGROK_AUTH_TOKEN}\n",
        "  api_key: {NGROK_API_KEY}\n",
        "\n",
        "tunnels:\n",
        "  miniserve:\n",
        "    proto: http\n",
        "    addr: 80\n",
        "  ssh_server:\n",
        "    addr: 22\n",
        "    proto: tcp\n",
        "\"\"\"\n",
        "\n",
        "with open(NGROK_CONFIG_DIR + \"/ngrok.yml\", \"w\") as f:\n",
        "    f.write(ngrok_config)\n",
        "\n",
        "print(f\"ngrok.yml config generated at \" + NGROK_CONFIG_DIR + \"/ngrok.yml\")\n",
        "\n",
        "\n",
        "\n",
        "!nohup ngrok start --all --config={NGROK_CONFIG_DIR}/ngrok.yml &> /dev/null &\n",
        "\n",
        "\n",
        "time.sleep(5)\n",
        "resp = requests.get(\"http://localhost:4040/api/tunnels\").json()\n",
        "tunnels = resp.get(\"tunnels\", [])\n",
        "\n",
        "miniserve_url = next((t['public_url'] for t in tunnels if t.get(\"proto\") == \"https\"), None)\n",
        "ssh_tunnel = next((t for t in tunnels if t['name'] == 'ssh_server'), None)\n",
        "\n",
        "if ssh_tunnel:\n",
        "    url = ssh_tunnel['public_url']\n",
        "    match = re.match(r\"tcp://([^:]+):(\\d+)\", url)\n",
        "    if match:\n",
        "        host, port = match.groups()\n",
        "    else:\n",
        "        host = port = None\n",
        "else:\n",
        "    url = host = port = None\n",
        "\n",
        "print(f\"🌐 Miniserve available at: {miniserve_url}\")\n",
        "print(f\"🔑 Connect with: ssh debuguser@{host} -p {port}\")\n",
        "print(f\"🔑 Connect with: sshpass -p '{SSH_PASSWORD}' ssh -o StrictHostKeyChecking=no debuguser@{host} -p {port}\")\n",
        "print(f\"🔑 Password: {SSH_PASSWORD}\")\n",
        "print(f\"TUNNEL: {url}\")\n"
      ],
      "metadata": {
        "cellView": "form",
        "id": "TtaR1EYlwE5g"
      },
      "execution_count": null,
      "outputs": []
    },
    {
      "cell_type": "markdown",
      "source": [
        "--------"
      ],
      "metadata": {
        "id": "xPQbZ0St1Uww"
      }
    },
    {
      "cell_type": "code",
      "source": [
        "#@title ⏳ 4. Keep runtime running\n",
        "print(\"Runtime is running. Sleeping for 12 hours...\")\n",
        "print(\"Created by chunix64\")\n",
        "print(\"Updates available at: https://github.com/chunix64/jupyter-ssh\")\n",
        "\n",
        "import time\n",
        "\n",
        "try:\n",
        "    time.sleep(12 * 60 * 60)  # Sleep for 12 hours\n",
        "except KeyboardInterrupt:\n",
        "    print(\"\\nStopped by user.\")"
      ],
      "metadata": {
        "cellView": "form",
        "id": "J1qbI8Nkzkzp"
      },
      "execution_count": null,
      "outputs": []
    }
  ]
}